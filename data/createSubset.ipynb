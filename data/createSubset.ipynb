{
 "cells": [
  {
   "cell_type": "code",
   "execution_count": 1,
   "metadata": {
    "collapsed": true
   },
   "outputs": [],
   "source": [
    "import re"
   ]
  },
  {
   "cell_type": "code",
   "execution_count": 2,
   "metadata": {
    "collapsed": true
   },
   "outputs": [],
   "source": [
    "#number of plagiarism pairs to include\n",
    "numPs = 10"
   ]
  },
  {
   "cell_type": "code",
   "execution_count": 4,
   "metadata": {
    "collapsed": true
   },
   "outputs": [],
   "source": [
    "#Total number of articles in the data set\n",
    "numDocs = 1000"
   ]
  },
  {
   "cell_type": "markdown",
   "metadata": {},
   "source": [
    "### Parsing the Ground Truth"
   ]
  },
  {
   "cell_type": "code",
   "execution_count": 6,
   "metadata": {
    "collapsed": true
   },
   "outputs": [],
   "source": [
    "# Build the dictionary of all plagiarism pairings.\n",
    "pDict = {}\n",
    "# Build a list of plagiarism docs to include in this subset.\n",
    "pInc = []"
   ]
  },
  {
   "cell_type": "code",
   "execution_count": 67,
   "metadata": {},
   "outputs": [
    {
     "name": "stderr",
     "output_type": "stream",
     "text": [
      "/home/anamikas/anaconda3/lib/python3.6/site-packages/ipykernel_launcher.py:1: DeprecationWarning: 'U' mode is deprecated\n",
      "  \"\"\"Entry point for launching an IPython kernel.\n"
     ]
    }
   ],
   "source": [
    "f = open(\"articles_10000.truth\", 'rU')"
   ]
  },
  {
   "cell_type": "code",
   "execution_count": 48,
   "metadata": {},
   "outputs": [
    {
     "name": "stdout",
     "output_type": "stream",
     "text": [
      "line is t1088 t5015\n",
      "second time t1088 t5015\n",
      "docs is ['t1088', 't5015']\n",
      "line is t1297 t4638\n",
      "second time t1297 t4638\n",
      "docs is ['t1297', 't4638']\n",
      "line is t1768 t5248\n",
      "second time t1768 t5248\n",
      "docs is ['t1768', 't5248']\n",
      "line is t1952 t3495\n",
      "second time t1952 t3495\n",
      "docs is ['t1952', 't3495']\n",
      "line is t980 t2023\n",
      "second time t980 t2023\n",
      "docs is ['t980', 't2023']\n",
      "line is t2535 t8642\n",
      "second time t2535 t8642\n",
      "docs is ['t2535', 't8642']\n",
      "line is t2839 t9303\n",
      "second time t2839 t9303\n",
      "docs is ['t2839', 't9303']\n",
      "line is t2957 t7111\n",
      "second time t2957 t7111\n",
      "docs is ['t2957', 't7111']\n",
      "line is t3268 t7998\n",
      "second time t3268 t7998\n",
      "docs is ['t3268', 't7998']\n",
      "line is t3466 t7563\n",
      "second time t3466 t7563\n",
      "docs is ['t3466', 't7563']\n",
      "line is t3575 t8979\n",
      "second time t3575 t8979\n",
      "docs is ['t3575', 't8979']\n",
      "line is t3725 t4099\n",
      "second time t3725 t4099\n",
      "docs is ['t3725', 't4099']\n",
      "line is t4467 t6205\n",
      "second time t4467 t6205\n",
      "docs is ['t4467', 't6205']\n",
      "line is t4530 t7907\n",
      "second time t4530 t7907\n",
      "docs is ['t4530', 't7907']\n",
      "line is t906 t5442 \n",
      "second time t906 t5442 \n",
      "docs is ['t906', 't5442', '']\n",
      "line is t5551 t7693\n",
      "second time t5551 t7693\n",
      "docs is ['t5551', 't7693']\n",
      "line is t969 t6244\n",
      "second time t969 t6244\n",
      "docs is ['t969', 't6244']\n",
      "line is t7270 t8387\n",
      "second time t7270 t8387\n",
      "docs is ['t7270', 't8387']\n",
      "line is t7527 t8101\n",
      "second time t7527 t8101\n",
      "docs is ['t7527', 't8101']\n",
      "line is t787 t9596\n",
      "second time t787 t9596\n",
      "docs is ['t787', 't9596']\n",
      "line is t8306 t8805\n",
      "second time t8306 t8805\n",
      "docs is ['t8306', 't8805']\n",
      "line is t840 t9579\n",
      "second time t840 t9579\n",
      "docs is ['t840', 't9579']\n",
      "line is t8826 t9285\n",
      "second time t8826 t9285\n",
      "docs is ['t8826', 't9285']\n",
      "line is t1012 t9363\n",
      "second time t1012 t9363\n",
      "docs is ['t1012', 't9363']\n",
      "line is t1142 t2475\n",
      "second time t1142 t2475\n",
      "docs is ['t1142', 't2475']\n",
      "line is t1206 t4591\n",
      "second time t1206 t4591\n",
      "docs is ['t1206', 't4591']\n",
      "line is t492 t1436\n",
      "second time t492 t1436\n",
      "docs is ['t492', 't1436']\n",
      "line is t1488 t9549\n",
      "second time t1488 t9549\n",
      "docs is ['t1488', 't9549']\n",
      "line is t5304 t7320\n",
      "second time t5304 t7320\n",
      "docs is ['t5304', 't7320']\n",
      "line is t7412 t7623\n",
      "second time t7412 t7623\n",
      "docs is ['t7412', 't7623']\n",
      "line is t104 t4172\n",
      "second time t104 t4172\n",
      "docs is ['t104', 't4172']\n",
      "line is t1057 t5702\n",
      "second time t1057 t5702\n",
      "docs is ['t1057', 't5702']\n",
      "line is t1295 t6680\n",
      "second time t1295 t6680\n",
      "docs is ['t1295', 't6680']\n",
      "line is t1374 t3257\n",
      "second time t1374 t3257\n",
      "docs is ['t1374', 't3257']\n",
      "line is t1403 t5999\n",
      "second time t1403 t5999\n",
      "docs is ['t1403', 't5999']\n",
      "line is t764 t1513\n",
      "second time t764 t1513\n",
      "docs is ['t764', 't1513']\n",
      "line is t1583 t9230\n",
      "second time t1583 t9230\n",
      "docs is ['t1583', 't9230']\n",
      "line is t1621 t7958\n",
      "second time t1621 t7958\n",
      "docs is ['t1621', 't7958']\n",
      "line is t1726 t9170\n",
      "second time t1726 t9170\n",
      "docs is ['t1726', 't9170']\n",
      "line is t1782 t7716\n",
      "second time t1782 t7716\n",
      "docs is ['t1782', 't7716']\n",
      "line is t1898 t8090\n",
      "second time t1898 t8090\n",
      "docs is ['t1898', 't8090']\n",
      "line is t1998 t5871\n",
      "second time t1998 t5871\n",
      "docs is ['t1998', 't5871']\n",
      "line is t2001 t5239\n",
      "second time t2001 t5239\n",
      "docs is ['t2001', 't5239']\n",
      "line is t2100 t6571\n",
      "second time t2100 t6571\n",
      "docs is ['t2100', 't6571']\n",
      "line is t2121 t3020\n",
      "second time t2121 t3020\n",
      "docs is ['t2121', 't3020']\n",
      "line is t2356 t4015\n",
      "second time t2356 t4015\n",
      "docs is ['t2356', 't4015']\n",
      "line is t2390 t4969\n",
      "second time t2390 t4969\n",
      "docs is ['t2390', 't4969']\n",
      "line is t673 t2432\n",
      "second time t673 t2432\n",
      "docs is ['t673', 't2432']\n",
      "line is t269 t8413\n",
      "second time t269 t8413\n",
      "docs is ['t269', 't8413']\n",
      "line is t288 t6999\n",
      "second time t288 t6999\n",
      "docs is ['t288', 't6999']\n",
      "line is t3072 t7923\n",
      "second time t3072 t7923\n",
      "docs is ['t3072', 't7923']\n",
      "line is t797 t3088\n",
      "second time t797 t3088\n",
      "docs is ['t797', 't3088']\n",
      "line is t3136 t8469\n",
      "second time t3136 t8469\n",
      "docs is ['t3136', 't8469']\n",
      "line is t321 t6539\n",
      "second time t321 t6539\n",
      "docs is ['t321', 't6539']\n",
      "line is t3358 t4022\n",
      "second time t3358 t4022\n",
      "docs is ['t3358', 't4022']\n",
      "line is t379 t3446\n",
      "second time t379 t3446\n",
      "docs is ['t379', 't3446']\n",
      "line is t644 t3600\n",
      "second time t644 t3600\n",
      "docs is ['t644', 't3600']\n",
      "line is t617 t3684\n",
      "second time t617 t3684\n",
      "docs is ['t617', 't3684']\n",
      "line is t3702 t6235\n",
      "second time t3702 t6235\n",
      "docs is ['t3702', 't6235']\n",
      "line is t3727 t3982\n",
      "second time t3727 t3982\n",
      "docs is ['t3727', 't3982']\n",
      "line is t3783 t6092\n",
      "second time t3783 t6092\n",
      "docs is ['t3783', 't6092']\n",
      "line is t538 t3889\n",
      "second time t538 t3889\n",
      "docs is ['t538', 't3889']\n",
      "line is t4211 t9248\n",
      "second time t4211 t9248\n",
      "docs is ['t4211', 't9248']\n",
      "line is t4455 t7717\n",
      "second time t4455 t7717\n",
      "docs is ['t4455', 't7717']\n",
      "line is t448 t8535\n",
      "second time t448 t8535\n",
      "docs is ['t448', 't8535']\n",
      "line is t4615 t8496\n",
      "second time t4615 t8496\n",
      "docs is ['t4615', 't8496']\n",
      "line is t646 t4628\n",
      "second time t646 t4628\n",
      "docs is ['t646', 't4628']\n",
      "line is t462 t7069\n",
      "second time t462 t7069\n",
      "docs is ['t462', 't7069']\n",
      "line is t4755 t5544\n",
      "second time t4755 t5544\n",
      "docs is ['t4755', 't5544']\n",
      "line is t4792 t7973\n",
      "second time t4792 t7973\n",
      "docs is ['t4792', 't7973']\n",
      "line is t4910 t5780\n",
      "second time t4910 t5780\n",
      "docs is ['t4910', 't5780']\n",
      "line is t5262 t6261\n",
      "second time t5262 t6261\n",
      "docs is ['t5262', 't6261']\n",
      "line is t5411 t9894\n",
      "second time t5411 t9894\n",
      "docs is ['t5411', 't9894']\n",
      "line is t5416 t9355\n",
      "second time t5416 t9355\n",
      "docs is ['t5416', 't9355']\n",
      "line is t6370 t9445\n",
      "second time t6370 t9445\n",
      "docs is ['t6370', 't9445']\n",
      "line is t6520 t6906\n",
      "second time t6520 t6906\n",
      "docs is ['t6520', 't6906']\n",
      "line is t6613 t9385\n",
      "second time t6613 t9385\n",
      "docs is ['t6613', 't9385']\n",
      "line is t8164 t9455\n",
      "second time t8164 t9455\n",
      "docs is ['t8164', 't9455']\n",
      "line is t8561 t9620\n",
      "second time t8561 t9620\n",
      "docs is ['t8561', 't9620']\n",
      "line is t8861 t9724\n",
      "second time t8861 t9724\n",
      "docs is ['t8861', 't9724']\n"
     ]
    }
   ],
   "source": [
    "for line in f:\n",
    "    if line[-1] == '\\n':\n",
    "        line = line[0:-1]\n",
    "        print('line is', line)\n",
    "    print('second time', line)\n",
    "    docs = line.split(\" \")\n",
    "    print('docs is', docs)"
   ]
  },
  {
   "cell_type": "code",
   "execution_count": 68,
   "metadata": {},
   "outputs": [
    {
     "name": "stdout",
     "output_type": "stream",
     "text": [
      "Plagiarisms to grab ['t1088', 't5015', 't1297', 't4638', 't1768', 't5248', 't1952', 't3495', 't980', 't2023', 't2535', 't8642', 't2839', 't9303', 't2957', 't7111', 't3268', 't7998', 't3466', 't7563']\n"
     ]
    }
   ],
   "source": [
    "for line in f:\n",
    "    if line[-1] == '\\n':\n",
    "        line = line[0:-1]\n",
    "    docs = line.split(\" \")\n",
    "    #Mapping the last two documents to each other \n",
    "    pDict[docs[0]] = docs[1]\n",
    "    pDict[docs[1]] = docs[0]\n",
    "    \n",
    "    if len(pInc) < (2*numPs):\n",
    "        pInc.append(docs[0])\n",
    "        pInc.append(docs[1])\n",
    "print(\"Plagiarisms to grab\", str(pInc))"
   ]
  },
  {
   "cell_type": "code",
   "execution_count": 69,
   "metadata": {},
   "outputs": [
    {
     "data": {
      "text/plain": [
       "20"
      ]
     },
     "execution_count": 69,
     "metadata": {},
     "output_type": "execute_result"
    }
   ],
   "source": [
    "len(pInc)"
   ]
  },
  {
   "cell_type": "markdown",
   "metadata": {},
   "source": [
    "### Grab the Plagiarism examples"
   ]
  },
  {
   "cell_type": "code",
   "execution_count": 84,
   "metadata": {},
   "outputs": [
    {
     "name": "stderr",
     "output_type": "stream",
     "text": [
      "/home/anamikas/anaconda3/lib/python3.6/site-packages/ipykernel_launcher.py:1: DeprecationWarning: 'U' mode is deprecated\n",
      "  \"\"\"Entry point for launching an IPython kernel.\n"
     ]
    }
   ],
   "source": [
    "f = open(\"articles_10000.train\", \"rU\")\n",
    "outLines = []\n",
    "#non plagiarised articles \n",
    "nonPs = numDocs - (numPs*2)\n",
    "for line in f:\n",
    "    m = re.search(r't\\d+', line)\n",
    "    docID = m.group() \n",
    "    \n",
    "    #if ID in plagiarsm subset group, add here\n",
    "    if docID in pInc:\n",
    "        outLines.append(line)\n",
    "    elif nonPs > 0 and not docID in pDict:\n",
    "        outLines.append(line)\n",
    "        nonPs = nonPs - 1\n",
    "    \n",
    "    if len(outLines) == numDocs:\n",
    "        break  \n",
    "f.close()"
   ]
  },
  {
   "cell_type": "code",
   "execution_count": 92,
   "metadata": {
    "collapsed": true
   },
   "outputs": [],
   "source": [
    "#Retrieve integer document ID from beginning of the line \n",
    "def nameToInt(s):\n",
    "    m = re.search(r'\\d+', s)\n",
    "    return int(m.group())"
   ]
  },
  {
   "cell_type": "code",
   "execution_count": 97,
   "metadata": {},
   "outputs": [],
   "source": [
    "outLines = sorted(outLines, key=nameToInt)"
   ]
  },
  {
   "cell_type": "code",
   "execution_count": 98,
   "metadata": {
    "collapsed": true
   },
   "outputs": [],
   "source": [
    "#write out the lines"
   ]
  },
  {
   "cell_type": "code",
   "execution_count": 100,
   "metadata": {},
   "outputs": [
    {
     "name": "stdout",
     "output_type": "stream",
     "text": [
      "Writing dataset to  articles_1000.train\n"
     ]
    }
   ],
   "source": [
    "filename = \"articles_\" + str(numDocs) + \".train\"\n",
    "print(\"Writing dataset to \", filename)"
   ]
  },
  {
   "cell_type": "code",
   "execution_count": 101,
   "metadata": {
    "collapsed": true
   },
   "outputs": [],
   "source": [
    "f = open(filename, \"w\")\n",
    "f.writelines(outLines)\n",
    "f.close()"
   ]
  },
  {
   "cell_type": "code",
   "execution_count": 103,
   "metadata": {},
   "outputs": [
    {
     "name": "stdout",
     "output_type": "stream",
     "text": [
      "Writing truth to articles_1000.truth\n"
     ]
    }
   ],
   "source": [
    "# Write out the ground truth.\n",
    "filename = \"articles_\" + str(numDocs) + \".truth\"\n",
    "print(\"Writing truth to \" + filename)\n",
    "f = open(filename, \"w\")\n",
    "\n",
    "for i in range(0, len(pInc), 2):\n",
    "  # Add the pair to the truth table.\n",
    "  f.write(pInc[i] + \" \" + pInc[i + 1] + \"\\n\")\n",
    "    \n",
    "f.close()"
   ]
  },
  {
   "cell_type": "code",
   "execution_count": null,
   "metadata": {
    "collapsed": true
   },
   "outputs": [],
   "source": []
  },
  {
   "cell_type": "code",
   "execution_count": null,
   "metadata": {
    "collapsed": true
   },
   "outputs": [],
   "source": []
  },
  {
   "cell_type": "code",
   "execution_count": null,
   "metadata": {
    "collapsed": true
   },
   "outputs": [],
   "source": []
  },
  {
   "cell_type": "code",
   "execution_count": null,
   "metadata": {
    "collapsed": true
   },
   "outputs": [],
   "source": []
  },
  {
   "cell_type": "code",
   "execution_count": null,
   "metadata": {
    "collapsed": true
   },
   "outputs": [],
   "source": []
  },
  {
   "cell_type": "code",
   "execution_count": null,
   "metadata": {
    "collapsed": true
   },
   "outputs": [],
   "source": []
  },
  {
   "cell_type": "code",
   "execution_count": null,
   "metadata": {
    "collapsed": true
   },
   "outputs": [],
   "source": []
  },
  {
   "cell_type": "code",
   "execution_count": null,
   "metadata": {
    "collapsed": true
   },
   "outputs": [],
   "source": []
  },
  {
   "cell_type": "code",
   "execution_count": null,
   "metadata": {
    "collapsed": true
   },
   "outputs": [],
   "source": []
  },
  {
   "cell_type": "code",
   "execution_count": null,
   "metadata": {
    "collapsed": true
   },
   "outputs": [],
   "source": []
  },
  {
   "cell_type": "code",
   "execution_count": null,
   "metadata": {
    "collapsed": true
   },
   "outputs": [],
   "source": []
  },
  {
   "cell_type": "code",
   "execution_count": null,
   "metadata": {
    "collapsed": true
   },
   "outputs": [],
   "source": []
  },
  {
   "cell_type": "code",
   "execution_count": null,
   "metadata": {
    "collapsed": true
   },
   "outputs": [],
   "source": []
  },
  {
   "cell_type": "code",
   "execution_count": null,
   "metadata": {
    "collapsed": true
   },
   "outputs": [],
   "source": []
  },
  {
   "cell_type": "code",
   "execution_count": null,
   "metadata": {
    "collapsed": true
   },
   "outputs": [],
   "source": []
  },
  {
   "cell_type": "code",
   "execution_count": null,
   "metadata": {
    "collapsed": true
   },
   "outputs": [],
   "source": []
  },
  {
   "cell_type": "code",
   "execution_count": null,
   "metadata": {
    "collapsed": true
   },
   "outputs": [],
   "source": []
  },
  {
   "cell_type": "code",
   "execution_count": null,
   "metadata": {
    "collapsed": true
   },
   "outputs": [],
   "source": []
  },
  {
   "cell_type": "code",
   "execution_count": null,
   "metadata": {
    "collapsed": true
   },
   "outputs": [],
   "source": []
  },
  {
   "cell_type": "code",
   "execution_count": null,
   "metadata": {
    "collapsed": true
   },
   "outputs": [],
   "source": []
  }
 ],
 "metadata": {
  "kernelspec": {
   "display_name": "Python 3",
   "language": "python",
   "name": "python3"
  },
  "language_info": {
   "codemirror_mode": {
    "name": "ipython",
    "version": 3
   },
   "file_extension": ".py",
   "mimetype": "text/x-python",
   "name": "python",
   "nbconvert_exporter": "python",
   "pygments_lexer": "ipython3",
   "version": "3.6.3"
  }
 },
 "nbformat": 4,
 "nbformat_minor": 2
}
